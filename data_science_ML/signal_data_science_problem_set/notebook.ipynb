﻿{
 "metadata": {
  "kernelspec": {
   "display_name": "Python 3",
   "language": "python",
   "name": "python3"
  },
  "language_info": {
   "codemirror_mode": {
    "name": "ipython",
    "version": 3
   },
   "file_extension": ".py",
   "mimetype": "text/x-python",
   "name": "python",
   "nbconvert_exporter": "python",
   "pygments_lexer": "ipython3",
   "version": "3.5.2"
  }
 },
 "nbformat": 4,
 "nbformat_minor": 0,
 "cells": [
  {
   "cell_type": "markdown",
   "metadata": {
    "_cell_guid": "b40c8937-d7e0-ee0e-0cfc-b34063e3b877",
    "_active": false
   },
   "source": "##Basic sci-kit-learn training"
  },
  {
   "cell_type": "code",
   "execution_count": 2,
   "metadata": {
    "_cell_guid": "a4df9abc-dcda-4968-984b-52e83e7837a7",
    "_active": false
   },
   "outputs": [],
   "source": "import numpy as np  \nimport pandas as pd  \nimport csv\nfrom sklearn.ensemble import RandomForestClassifier\n\ndef munge_data(df):\n    '''fill in missing values and convert characters to numerical'''\n    \n    #transform 'Sex' column to numerical values\n    df['Sex'] = df['Sex'].map( {'female': 0, 'male': 1} ).astype(int)\n\n    #fill in nans with median ages for each class\n    median_ages = np.zeros((2,3))\n    for i in range(0, 2):\n        for j in range(0, 3):\n            median_ages[i,j] = df[(df['Sex'] == i) & \\\n                                (df['Pclass'] == j+1)]['Age'].dropna().median()\n\n    for i in range(0, 2):\n        for j in range(0, 3):\n            df.loc[ (df.Age.isnull()) & (df.Sex == i) & (df.Pclass == j+1), \\\n                    'Age'] = median_ages[i,j]\n\n    #transform 'Embarked' column to numerical\n    df['Embarked'] = df['Embarked'].dropna().map( {'C': 1, 'S': 2, 'Q': 3} ).astype(int)\n    \n    #find mode of 'Embarked' column\n    mode = df['Embarked'].dropna().mode().astype(int)\n     \n    #fill NaNs with mode \n    df['Embarked'] = df['Embarked'].fillna(mode)\n\n    #drop columns with strings that we can't use. \n    df = df.drop(['PassengerId', 'Name', 'Ticket', 'Cabin'], axis=1)\n\n    return df.fillna(0)\n\n#import dataframe\ntrain_df = pd.read_csv('../input/train.csv', header=0)\ntest_df  = pd.read_csv('../input/test.csv', header=0)\n\n#save ids from test dataset\nids = test_df['PassengerId'].values\n\n#munge data\ntrain_df = munge_data(train_df)\ntest_df  = munge_data(test_df)\n\ntrain_data = train_df.values\ntest_data = test_df.values\n\nprint('Training...')\nrf = RandomForestClassifier(n_estimators=100)\nrf = rf.fit( train_data[0::,1::], train_data[0::,0] )\n\nprint(\"Accuracy = \", (rf.predict(train_data[0::,1::])==train_data[0::,0]).mean())\n\n#print('Predicting...')\n#output = forest.predict(test_data).astype(int)\n\n#predictions_file = open(\"myfirstforest.csv\", \"w\")\n#open_file_object = csv.writer(predictions_file)\n#open_file_object.writerow([\"PassengerId\",\"Survived\"])\n#open_file_object.writerows(zip(ids, output))\n#predictions_file.close()"
  },
  {
   "cell_type": "markdown",
   "metadata": {
    "_cell_guid": "86a241de-f4a9-47a0-aced-d6917189b24b",
    "_active": false
   },
   "source": "##Feature importance \nRandom forests & sci-kit-learn make it very easy to look at feature importance: "
  },
  {
   "cell_type": "code",
   "execution_count": 3,
   "metadata": {
    "_cell_guid": "8dd0707d-f7a5-9ed0-0bf4-9e8da455c2c9",
    "_active": true
   },
   "outputs": [],
   "source": "import matplotlib.pyplot as plt\nf, ax = plt.subplots(figsize=(10,4))\n\nbar_placements = range(len(rf.feature_importances_))\nax.bar(bar_placements, rf.feature_importances_)\nax.set_title(\"Feature Importances\")\nax.set_xticks([tick + .5 for tick in bar_placements])\nax.set_xticklabels(train_df.columns[1::])\n\nf.show()"
  }
 ]
}