{
 "metadata": {
  "name": "",
  "signature": "sha256:45a8b444635a00ac98c2681764247992a98c62ddd6fbc08745857ac9d252d792"
 },
 "nbformat": 3,
 "nbformat_minor": 0,
 "worksheets": [
  {
   "cells": [
    {
     "cell_type": "code",
     "collapsed": false,
     "input": [],
     "language": "python",
     "metadata": {},
     "outputs": []
    }
   ],
   "metadata": {}
  }
 ]
}