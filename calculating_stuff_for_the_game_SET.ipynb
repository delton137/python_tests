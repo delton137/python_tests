{
 "cells": [
  {
   "cell_type": "code",
   "execution_count": 2,
   "metadata": {},
   "outputs": [],
   "source": [
    "from random import shuffle\n",
    "\n",
    "\n",
    "#--------------------------------------------------------------------\n",
    "class Deck():\n",
    "    def __init__():\n",
    "        self.deck = self.gen_deck()\n",
    "        \n",
    "    def gen_deck():    \n",
    "        deck = []\n",
    "        for i in range(3):\n",
    "            for j in range(3):\n",
    "                for k in range(3):\n",
    "                    card = [i, j, k]\n",
    "                    deck += [card]\n",
    "                    \n",
    "        self.deck = shuffle(deck)\n",
    "        \n",
    "    def draw_three():\n",
    "        if (len(self.deck) > 3):\n",
    "            return [self.deck.pop(), self.deck.pop(), self.deck.pop()]\n",
    "        elif (len(self.deck) == 0):\n",
    "            return None\n",
    "        else:\n",
    "            print(\"WARNING: only 1 or 2 cards left. Maybe something went wrong?\")\n",
    "            return None\n",
    "    \n",
    "    def init_draw():\n",
    "        return [self.deck.pop() for i in range(12)]\n",
    "    \n",
    "\n",
    "#--------------------------------------------------------------------\n",
    "def set_card(c1, c2):\n",
    "    '''returns the card c3 needed to make a set, given c1, c2'''\n",
    "    c3 = [[],[],[]]\n",
    "    for i in range(3)\n",
    "        if c1[i] == c2[i]:\n",
    "            c3[i] = c1[i]\n",
    "        else:\n",
    "            if (c1[i]+c2[i]) == 1:\n",
    "                c3[1] = 2\n",
    "            if (c1[i]+c2[i]) == 2:\n",
    "                c3[1] = 1\n",
    "            if (c1[i]+c2[i]) == 3:\n",
    "                c3[1] = 3\n",
    "    \n",
    "    return c3\n",
    "\n",
    "\n",
    "#--------------------------------------------------------------------\n",
    "def play_set(deck):\n",
    "    ''' plays SET and then returns whatever cards are leftover'''\n",
    "    deck = Deck()\n",
    "    cards = deck.init_draw()\n",
    "    \n",
    "    for i in range(12):\n",
    "        for j in range(i,12):\n",
    "            c3 = set_card(i,j)\n",
    "            for j in range():\n",
    "                \n",
    "                \n",
    "                \n",
    "#--------------------------------------------------------------------\n",
    "if __ == '__main__':\n",
    "    \n",
    "    \n",
    "    \n",
    "    \n",
    "    \n",
    "    \n",
    "            \n",
    "    "
   ]
  },
  {
   "cell_type": "code",
   "execution_count": 9,
   "metadata": {},
   "outputs": [
    {
     "data": {
      "text/plain": [
       "[99, 98, 97, 96, 95, 94, 93, 92, 91, 90, 89, 88]"
      ]
     },
     "execution_count": 9,
     "metadata": {},
     "output_type": "execute_result"
    }
   ],
   "source": [
    "\n",
    "[A.pop() for i in range(12)]"
   ]
  },
  {
   "cell_type": "code",
   "execution_count": null,
   "metadata": {},
   "outputs": [],
   "source": []
  },
  {
   "cell_type": "code",
   "execution_count": null,
   "metadata": {},
   "outputs": [],
   "source": []
  }
 ],
 "metadata": {
  "kernelspec": {
   "display_name": "Python 3",
   "language": "python",
   "name": "python3"
  },
  "language_info": {
   "codemirror_mode": {
    "name": "ipython",
    "version": 3
   },
   "file_extension": ".py",
   "mimetype": "text/x-python",
   "name": "python",
   "nbconvert_exporter": "python",
   "pygments_lexer": "ipython3",
   "version": "3.8.6"
  }
 },
 "nbformat": 4,
 "nbformat_minor": 4
}
