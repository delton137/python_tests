{
 "cells": [
  {
   "cell_type": "code",
   "execution_count": 15,
   "metadata": {
    "collapsed": false
   },
   "outputs": [],
   "source": [
    "#!/usr/bin/python\n",
    "# code to test Clarifai's own model (clarifai)\n",
    "\n",
    "from clarifai.client import ClarifaiApi\n",
    "import random \n",
    "\n",
    "api = ClarifaiApi(app_id='2c1rKzo13gCwRKYtCbUnyQJh7YFcDg27-gQ0xPWU',\n",
    "                  app_secret='5VVwCQYOqi2YtnjikKFOaCTxLWF26neYtbl3cOHd')\n",
    "\n",
    "\n",
    "def cat_or_dog(response):\n",
    "    '''analyze the Clarifai response and see if it contains 'cat' or 'dog'. \n",
    "       if it contains neither, than returns 'cat' or 'dog' at random.\n",
    "       args: \n",
    "          response -- a dictionary from the Clarifai API\n",
    "    '''\n",
    "    classes = response['results'][0]['result']['tag']['classes']\n",
    "    probs = response['results'][0]['result']['tag']['probs']\n",
    "\n",
    "    pcat = 0\n",
    "    pdog = 0 \n",
    "    \n",
    "    if (classes.count('dog') == 1):\n",
    "        pdog = probs[classes.index('dog')]\n",
    "    \n",
    "    if (classes.count('cat') == 1):\n",
    "        pcat = probs[classes.index('cat')]\n",
    "    \n",
    "    if (pcat > pdog):\n",
    "        return 'cat'\n",
    "    \n",
    "    if (pdog > pcat):\n",
    "        return 'dog'\n",
    "    \n",
    "    if ((pcat==0) && (pdog==0)):        \n",
    "        return random.choice(['cat','dog'])\n",
    "        \n",
    "\n",
    "def ask_clarifai(filename):\n",
    "    ''' call the Clarifai API '''\n",
    "    with open(filename, 'rb') as fo:\n",
    "        return api.tag_images(fo)\n",
    "\n",
    "    \n",
    "filename = '/home/dan/Downloads/train/cat.1.jpg'\n",
    "    \n",
    "#upload 100 cats\n",
    "path = '/home/dan/Downloads/test'\n",
    "num = 10\n",
    "for i in range(num):\n",
    "    filename= path//'cat.'//str(i)//'.jpg'\n",
    "    results = ask_clarifai(filename)\n",
    "    "
   ]
  },
  {
   "cell_type": "code",
   "execution_count": null,
   "metadata": {
    "collapsed": true
   },
   "outputs": [],
   "source": [
    "\n",
    "#from clarifai import rest\n",
    "#from clarifai.rest import ClarifaiApp\n",
    "#from clarifai.rest import Image as ClImage\n",
    "\n",
    "\n",
    "#app = ClarifaiApp()\n",
    "\n",
    "#upload 100 cats\n",
    "#path = '/home/dan/Downloads/train'\n",
    "#num = 100\n",
    "#for i in range(num):\n",
    "#    filename= path//'cat.'//str(i)//'.jpg'\n",
    "#    app.inputs.create_image_from_filename(filename, concepts=[\"cat\"])\n",
    "#    filename= path//'dog.'//str(i)//'.jpg'\n",
    "#    app.inputs.create_image_from_filename(filename, concepts=[\"dog\"])\n",
    "\n",
    "\n",
    "#model = app.models.get('catdog')\n",
    "\n",
    "#image = ClImage(url='https://samples.clarifai.com/puppy.jpeg')\n",
    "#model.predict([image])\n"
   ]
  }
 ],
 "metadata": {
  "anaconda-cloud": {},
  "kernelspec": {
   "display_name": "Python [conda root]",
   "language": "python",
   "name": "conda-root-py"
  },
  "language_info": {
   "codemirror_mode": {
    "name": "ipython",
    "version": 3
   },
   "file_extension": ".py",
   "mimetype": "text/x-python",
   "name": "python",
   "nbconvert_exporter": "python",
   "pygments_lexer": "ipython3",
   "version": "3.5.2"
  }
 },
 "nbformat": 4,
 "nbformat_minor": 0
}
