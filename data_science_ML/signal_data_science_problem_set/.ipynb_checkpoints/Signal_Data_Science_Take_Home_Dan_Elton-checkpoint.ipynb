{
 "cells": [
  {
   "cell_type": "markdown",
   "metadata": {},
   "source": [
    "### Import data"
   ]
  },
  {
   "cell_type": "code",
   "execution_count": 159,
   "metadata": {
    "collapsed": false
   },
   "outputs": [],
   "source": [
    "import pandas as pd\n",
    "import numpy as np\n",
    "\n",
    "train_df = pd.read_csv(\"trainHousing.csv\")\n",
    "test_df = pd.read_csv(\"testHousing.csv\")\n",
    "\n",
    "feature_names = train_df.columns.tolist()\n",
    "num_features = len(feature_names) - 1\n",
    "\n",
    "X = train_df.values[:,:-1]\n",
    "y = train_df.values[:,-1]\n",
    "\n",
    "Xtest = test_df.values[:,:-1]\n",
    "\n",
    "# feature scaling function\n",
    "def scale_features(X):\n",
    "    for i in range(len(X[1,:])):\n",
    "        X[:,i] = (X[:,i] - X[:,i].mean())/(X[:,i].max()-X[:,i].min())\n",
    "    return X\n",
    "\n",
    "X = scale_features(X)\n",
    "Xtest = scale_features(Xtest)"
   ]
  },
  {
   "cell_type": "markdown",
   "metadata": {},
   "source": [
    "### try a simple linear model "
   ]
  },
  {
   "cell_type": "code",
   "execution_count": 75,
   "metadata": {
    "collapsed": false
   },
   "outputs": [
    {
     "name": "stdout",
     "output_type": "stream",
     "text": [
      "scores =  [ 0.80282297  0.55825927  0.81266515  0.76366978  0.7071151 ]\n",
      "mean   = 0.73\n"
     ]
    }
   ],
   "source": [
    "from sklearn import linear_model\n",
    "from sklearn import cross_validation\n",
    "\n",
    "lm = linear_model.LinearRegression()\n",
    "lm = lm.fit(X,y)\n",
    "\n",
    "scores = cross_validation.cross_val_score(lm, X, y, cv=5, n_jobs=-1)\n",
    "print(\"scores = \",scores)\n",
    "print(\"mean   = %4.2f\" % (scores.mean()))\n"
   ]
  },
  {
   "cell_type": "markdown",
   "metadata": {},
   "source": [
    "The linear model gets an accuracy of 73% in cross validation\n",
    "\n",
    "### look at magnitude of linear regression coefficients "
   ]
  },
  {
   "cell_type": "code",
   "execution_count": 84,
   "metadata": {
    "collapsed": false
   },
   "outputs": [
    {
     "name": "stderr",
     "output_type": "stream",
     "text": [
      "/home/dan/anaconda3/lib/python3.5/site-packages/matplotlib/figure.py:397: UserWarning: matplotlib is currently using a non-GUI backend, so cannot show the figure\n",
      "  \"matplotlib is currently using a non-GUI backend, \"\n"
     ]
    },
    {
     "data": {
      "image/png": "[encoded data removed]",
      "text/plain": [
       "<matplotlib.figure.Figure at 0x7f84f4de07b8>"
      ]
     },
     "metadata": {},
     "output_type": "display_data"
    }
   ],
   "source": [
    "f, ax = plt.subplots(figsize=(10,4))\n",
    "\n",
    "bar_placements = range(len(lm.coef_))\n",
    "ax.bar(bar_placements, abs(lm.coef_))\n",
    "\n",
    "ax.set_title(\"Feature Importances\")\n",
    "ax.set_ylabel(\"linear regression coefficient\")\n",
    "ax.set_xticks([tick + .5 for tick in bar_placements])\n",
    "ax.set_xticklabels(feature_names)\n",
    "\n",
    "f.show()"
   ]
  },
  {
   "cell_type": "markdown",
   "metadata": {},
   "source": [
    "According to this, somewhat suprsingly, AGE is not very important. I am not sure how indicative of importance these coefficients are, some of the dependencies may be nonlinear and the linear model may be failing for them. "
   ]
  },
  {
   "cell_type": "markdown",
   "metadata": {},
   "source": [
    "### try random forest"
   ]
  },
  {
   "cell_type": "code",
   "execution_count": 185,
   "metadata": {
    "collapsed": false
   },
   "outputs": [
    {
     "name": "stdout",
     "output_type": "stream",
     "text": [
      "scores     =  [ 0.84528054  0.87359643  0.83003635  0.87556394]\n",
      "mean score = 0.86\n"
     ]
    }
   ],
   "source": [
    "%matplotlib inline\n",
    "from sklearn.ensemble import RandomForestRegressor\n",
    "import matplotlib.pyplot as plt\n",
    "\n",
    "rf = RandomForestRegressor(n_estimators=1000)\n",
    "rf = rf.fit( X, y )\n",
    "\n",
    "scores = cross_validation.cross_val_score(rf, X, y, cv=4, n_jobs=-1)\n",
    "print(\"scores     = \",scores)\n",
    "print(\"mean score = %4.2f\" % (scores.mean()))\n"
   ]
  },
  {
   "cell_type": "markdown",
   "metadata": {},
   "source": [
    "### make predictions on test data and save"
   ]
  },
  {
   "cell_type": "code",
   "execution_count": 187,
   "metadata": {
    "collapsed": true
   },
   "outputs": [],
   "source": [
    "predictions = rf.predict(Xtest)\n",
    "np.savetxt(\"predictions.dat\",predictions)"
   ]
  },
  {
   "cell_type": "markdown",
   "metadata": {},
   "source": [
    "### We plot accuracy vs n_estimators \n",
    "Due to the random generation of random forests, the plot changes somewhat each time it is run, but it confirms that 100 is a reasonable number (going higher won't help much) "
   ]
  },
  {
   "cell_type": "code",
   "execution_count": 89,
   "metadata": {
    "collapsed": false
   },
   "outputs": [
    {
     "name": "stderr",
     "output_type": "stream",
     "text": [
      "/home/dan/anaconda3/lib/python3.5/site-packages/matplotlib/figure.py:397: UserWarning: matplotlib is currently using a non-GUI backend, so cannot show the figure\n",
      "  \"matplotlib is currently using a non-GUI backend, \"\n"
     ]
    },
    {
     "data": {
      "image/png": "[encoded data removed]",
      "text/plain": [
       "<matplotlib.figure.Figure at 0x7f84f6a5ca58>"
      ]
     },
     "metadata": {},
     "output_type": "display_data"
    }
   ],
   "source": [
    "from sklearn.learning_curve import validation_curve\n",
    "\n",
    "num_to_try = [5,10,25,50,75,100,200,400,1000]\n",
    "train_scores, valid_scores = validation_curve(RandomForestRegressor(), \n",
    "                                              X, y, \n",
    "                                              \"n_estimators\",\n",
    "                                               num_to_try, n_jobs=-1)\n",
    "\n",
    "f, ax = plt.subplots(figsize=(10,4))\n",
    "ax.semilogx(num_to_try, np.mean(valid_scores, axis=1),\"-*\")\n",
    "f.show()"
   ]
  },
  {
   "cell_type": "markdown",
   "metadata": {},
   "source": [
    "### loook at feature importance from random forest"
   ]
  },
  {
   "cell_type": "code",
   "execution_count": 91,
   "metadata": {
    "collapsed": false
   },
   "outputs": [
    {
     "name": "stderr",
     "output_type": "stream",
     "text": [
      "/home/dan/anaconda3/lib/python3.5/site-packages/matplotlib/figure.py:397: UserWarning: matplotlib is currently using a non-GUI backend, so cannot show the figure\n",
      "  \"matplotlib is currently using a non-GUI backend, \"\n"
     ]
    },
    {
     "data": {
      "image/png": "[encoded data removed]",
      "text/plain": [
       "<matplotlib.figure.Figure at 0x7f84f4ea0940>"
      ]
     },
     "metadata": {},
     "output_type": "display_data"
    }
   ],
   "source": [
    "f, ax = plt.subplots(figsize=(10,4))\n",
    "\n",
    "bar_placements = range(len(rf.feature_importances_))\n",
    "ax.bar(bar_placements, rf.feature_importances_)\n",
    "ax.set_title(\"Feature Importances\")\n",
    "ax.set_xticks([tick + .5 for tick in bar_placements])\n",
    "ax.set_xticklabels(feature_names)\n",
    "\n",
    "f.show()"
   ]
  },
  {
   "cell_type": "markdown",
   "metadata": {},
   "source": [
    "### Try smaller number of features \n",
    "we drop some of the features to see if that helps with training the random forest. It doesn't help, which makes sense. "
   ]
  },
  {
   "cell_type": "code",
   "execution_count": 106,
   "metadata": {
    "collapsed": false
   },
   "outputs": [
    {
     "name": "stdout",
     "output_type": "stream",
     "text": [
      "scores =  [ 0.87087118  0.83661712  0.89519219  0.90828447  0.85899348]\n",
      "mean   = 0.87\n"
     ]
    }
   ],
   "source": [
    "smaller_train = train_df.drop([\"ZN\",\"CHAS\",\"RAD\",\"B\"],1)\n",
    "X2 = smaller_train.values\n",
    "X2 = scale_features(X2)\n",
    "\n",
    "rf = RandomForestRegressor(n_estimators=1000)\n",
    "rf = rf.fit( X2, y )\n",
    "\n",
    "scores = cross_validation.cross_val_score(rf, X, y, cv=5, n_jobs=-1)\n",
    "print(\"scores = \",scores)\n",
    "print(\"mean   = %4.2f\" % (scores.mean()))\n"
   ]
  },
  {
   "cell_type": "markdown",
   "metadata": {},
   "source": [
    "### Try polynomial features \n",
    "try adding nth order features to investigate bias vs variance trade off "
   ]
  },
  {
   "cell_type": "code",
   "execution_count": 193,
   "metadata": {
    "collapsed": false
   },
   "outputs": [
    {
     "name": "stdout",
     "output_type": "stream",
     "text": [
      "n  accuracy\n",
      "1  0.743\n",
      "2  0.801\n",
      "3  0.750\n",
      "4  0.573\n"
     ]
    }
   ],
   "source": [
    "def degree_n_fit(X, n):\n",
    "    to_concat = [X]\n",
    "    \n",
    "    for i in range(2,n+1):\n",
    "        to_concat += [X**n]\n",
    "    \n",
    "    Xpoly = np.concatenate(to_concat, axis=1)\n",
    "\n",
    "    lmp = linear_model.LinearRegression()\n",
    "    lmp = lmp.fit(Xpoly,y)\n",
    "    scores = cross_validation.cross_val_score(lmp, Xpoly, y, cv=4, n_jobs=-1)\n",
    "\n",
    "    #rf = RandomForestRegressor(n_estimators=200)\n",
    "    #rf = rf.fit( Xpoly, y )\n",
    "    #scores = cross_validation.cross_val_score(rf, Xpoly, y, cv=5, n_jobs=-1)\n",
    "\n",
    "    return scores.mean()\n",
    "\n",
    "print(\"n  accuracy\")\n",
    "for i in range(1,5):\n",
    "    accuracy = degree_n_fit(X,i)\n",
    "    print(\"%i  %4.3f\" % (i,accuracy))\n"
   ]
  },
  {
   "cell_type": "code",
   "execution_count": 153,
   "metadata": {
    "collapsed": false
   },
   "outputs": [
    {
     "name": "stdout",
     "output_type": "stream",
     "text": [
      "n  accuracy\n",
      "1  0.743\n",
      "2  0.447\n"
     ]
    }
   ],
   "source": [
    "from sklearn.preprocessing import PolynomialFeatures\n",
    "\n",
    "def degree_n_fit(X, n):\n",
    "       \n",
    "    pf = PolynomialFeatures(degree=n)\n",
    "    Xpoly = pf.fit_transform(X)\n",
    "    \n",
    "    lmp = linear_model.LinearRegression()\n",
    "    lmp = lm2.fit(Xpoly,y)\n",
    "    scores = cross_validation.cross_val_score(lm2, Xpoly, y, cv=4, n_jobs=-1)\n",
    "\n",
    "    return scores.mean()\n",
    "\n",
    "print(\"n  accuracy\")\n",
    "for i in range(1,3):\n",
    "    accuracy = degree_n_fit(X,i)\n",
    "    print(\"%i  %4.3f\" % (i,accuracy))"
   ]
  },
  {
   "cell_type": "markdown",
   "metadata": {},
   "source": [
    "Also tried using polynomial features feature of Sci-Kit-Learn (which generates all possible nth order combinations of features). Even with n=2, this leads directly to overfitting. "
   ]
  },
  {
   "cell_type": "markdown",
   "metadata": {},
   "source": [
    "### Try neural network with Keras\n",
    "\n",
    "this was copied from the example here : http://machinelearningmastery.com/regression-tutorial-keras-deep-learning-library-python/, but I removed the pipline and some other stuff to make it simplier, and changing error quantification (\"objective\") to mean_absolute_percentage_error so we can compute accuracies like above"
   ]
  },
  {
   "cell_type": "code",
   "execution_count": 192,
   "metadata": {
    "collapsed": false
   },
   "outputs": [
    {
     "name": "stdout",
     "output_type": "stream",
     "text": [
      "accuracy = 0.88 \n"
     ]
    }
   ],
   "source": [
    "from keras.models import Sequential\n",
    "from keras.layers import Dense\n",
    "from keras.wrappers.scikit_learn import KerasRegressor\n",
    "from sklearn.cross_validation import cross_val_score\n",
    "\n",
    "Xpoly = np.concatenate([X, X**2], axis=1)\n",
    "\n",
    "# define base mode\n",
    "def model():\n",
    "    # create model\n",
    "    model = Sequential()\n",
    "    model.add(Dense(60, input_dim=26, init='normal', activation='relu'))\n",
    "    model.add(Dense(20, init='normal', activation='relu'))\n",
    "    model.add(Dense(1, init='normal'))\n",
    "    # Compile model\n",
    "    model.compile(loss='mean_absolute_percentage_error', optimizer='adam')\n",
    "    return model\n",
    "\n",
    "# evaluate model with standardized dataset\n",
    "kr = KerasRegressor(build_fn=model, nb_epoch=100, batch_size=5, verbose=0)\n",
    "\n",
    "scores = cross_val_score(kr, Xpoly, y, cv=3)\n",
    "print(\"accuracy = %4.2f \" % ((100 - scores.mean())/100) )\n"
   ]
  },
  {
   "cell_type": "markdown",
   "metadata": {},
   "source": [
    "the single layer neural network is not able to achieve a much better cross validation score than the random forrest above (.86), even after adding 3 more hidden layers and experimenting with different layer sizes. It appears that a score of .87 is probably the highest achievable with this dataset using these type of inference-based methods.  "
   ]
  }
 ],
 "metadata": {
  "anaconda-cloud": {},
  "kernelspec": {
   "display_name": "Python [Root]",
   "language": "python",
   "name": "Python [Root]"
  },
  "language_info": {
   "codemirror_mode": {
    "name": "ipython",
    "version": 3
   },
   "file_extension": ".py",
   "mimetype": "text/x-python",
   "name": "python",
   "nbconvert_exporter": "python",
   "pygments_lexer": "ipython3",
   "version": "3.5.1"
  }
 },
 "nbformat": 4,
 "nbformat_minor": 0
}
