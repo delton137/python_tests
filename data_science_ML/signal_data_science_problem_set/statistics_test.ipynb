{
 "cells": [
  {
   "cell_type": "code",
   "execution_count": 30,
   "metadata": {
    "collapsed": false
   },
   "outputs": [
    {
     "name": "stdout",
     "output_type": "stream",
     "text": [
      "min = 150.00\n",
      "Q1 = 163.00\n",
      "median = 168.00\n",
      "Q2 = 170.00\n",
      "max = 178.00\n"
     ]
    }
   ],
   "source": [
    "import numpy as np\n",
    "\n",
    "heights = np.array([178,163,168,170,150])\n",
    "\n",
    "print(\"min = %6.2f\" % heights.min())\n",
    "print(\"Q1 = %6.2f\" % np.percentile(heights, 25))\n",
    "print(\"median = %6.2f\" % np.percentile(heights, 50))\n",
    "print(\"Q2 = %6.2f\" % np.percentile(heights, 75))\n",
    "print(\"max = %6.2f\" % heights.max())\n"
   ]
  },
  {
   "cell_type": "code",
   "execution_count": 34,
   "metadata": {
    "collapsed": false
   },
   "outputs": [
    {
     "name": "stdout",
     "output_type": "stream",
     "text": [
      "mean = 165.80\n"
     ]
    }
   ],
   "source": [
    "print(\"mean = %6.2f\" % heights.mean()) "
   ]
  },
  {
   "cell_type": "code",
   "execution_count": 42,
   "metadata": {
    "collapsed": false
   },
   "outputs": [
    {
     "name": "stdout",
     "output_type": "stream",
     "text": [
      "IQR =   7.00\n"
     ]
    }
   ],
   "source": [
    "Q2 = np.percentile(heights, 75)\n",
    "Q1 = np.percentile(heights, 25)\n",
    "print(\"IQR = %6.2f\" % (Q2-Q1))"
   ]
  },
  {
   "cell_type": "code",
   "execution_count": 37,
   "metadata": {
    "collapsed": false
   },
   "outputs": [
    {
     "data": {
      "image/png": "[encoded data removed]",
      "text/plain": [
       "<matplotlib.figure.Figure at 0x7f5e3c234b70>"
      ]
     },
     "metadata": {},
     "output_type": "display_data"
    }
   ],
   "source": [
    "%matplotlib inline\n",
    "import matplotlib.pyplot as plt \n",
    "\n",
    "plt.boxplot(heights)\n",
    "plt.show()"
   ]
  },
  {
   "cell_type": "code",
   "execution_count": 46,
   "metadata": {
    "collapsed": false
   },
   "outputs": [
    {
     "name": "stdout",
     "output_type": "stream",
     "text": [
      "variance =  85.76\n"
     ]
    }
   ],
   "source": [
    "print(\"variance = %6.2f\" % heights.var())"
   ]
  },
  {
   "cell_type": "code",
   "execution_count": 48,
   "metadata": {
    "collapsed": false
   },
   "outputs": [
    {
     "name": "stdout",
     "output_type": "stream",
     "text": [
      "std =   9.26\n"
     ]
    }
   ],
   "source": [
    "print(\"std = %6.2f\" % np.sqrt(heights.var()))"
   ]
  },
  {
   "cell_type": "code",
   "execution_count": 51,
   "metadata": {
    "collapsed": false
   },
   "outputs": [
    {
     "ename": "OverflowError",
     "evalue": "int too large to convert to float",
     "output_type": "error",
     "traceback": [
      "\u001b[1;31m---------------------------------------------------------------------------\u001b[0m",
      "\u001b[1;31mOverflowError\u001b[0m                             Traceback (most recent call last)",
      "\u001b[1;32m<ipython-input-51-ca9ce1500ce8>\u001b[0m in \u001b[0;36m<module>\u001b[1;34m()\u001b[0m\n\u001b[0;32m      6\u001b[0m \u001b[0msum\u001b[0m \u001b[1;33m=\u001b[0m \u001b[1;36m0.0\u001b[0m\u001b[1;33m\u001b[0m\u001b[0m\n\u001b[0;32m      7\u001b[0m \u001b[1;32mfor\u001b[0m \u001b[0mi\u001b[0m \u001b[1;32min\u001b[0m \u001b[0mrange\u001b[0m\u001b[1;33m(\u001b[0m\u001b[1;36m100\u001b[0m\u001b[1;33m,\u001b[0m\u001b[0mmax\u001b[0m\u001b[1;33m)\u001b[0m\u001b[1;33m:\u001b[0m\u001b[1;33m\u001b[0m\u001b[0m\n\u001b[1;32m----> 8\u001b[1;33m     \u001b[0msum\u001b[0m \u001b[1;33m+=\u001b[0m \u001b[1;33m(\u001b[0m\u001b[0mnp\u001b[0m\u001b[1;33m.\u001b[0m\u001b[0mexp\u001b[0m\u001b[1;33m(\u001b[0m\u001b[1;33m-\u001b[0m\u001b[0mavg_rate\u001b[0m\u001b[1;33m*\u001b[0m\u001b[0mi\u001b[0m\u001b[1;33m)\u001b[0m\u001b[1;33m*\u001b[0m\u001b[1;33m(\u001b[0m\u001b[0mavg_rate\u001b[0m\u001b[1;33m*\u001b[0m\u001b[0mi\u001b[0m\u001b[1;33m)\u001b[0m\u001b[1;33m**\u001b[0m\u001b[0mi\u001b[0m\u001b[1;33m)\u001b[0m\u001b[1;33m/\u001b[0m\u001b[0msp\u001b[0m\u001b[1;33m.\u001b[0m\u001b[0mmath\u001b[0m\u001b[1;33m.\u001b[0m\u001b[0mfactorial\u001b[0m\u001b[1;33m(\u001b[0m\u001b[0mi\u001b[0m\u001b[1;33m)\u001b[0m\u001b[1;33m\u001b[0m\u001b[0m\n\u001b[0m\u001b[0;32m      9\u001b[0m \u001b[1;33m\u001b[0m\u001b[0m\n\u001b[0;32m     10\u001b[0m \u001b[0mprint\u001b[0m\u001b[1;33m(\u001b[0m\u001b[1;34m\"%4.5e\"\u001b[0m \u001b[1;33m%\u001b[0m \u001b[0msum\u001b[0m\u001b[1;33m)\u001b[0m\u001b[1;33m\u001b[0m\u001b[0m\n",
      "\u001b[1;31mOverflowError\u001b[0m: int too large to convert to float"
     ]
    }
   ],
   "source": [
    "#Question 8\n",
    "import scipy as sp\n",
    "import numpy as np\n",
    "\n",
    "avg_rate = 2*50\n",
    "max = 300\n",
    "sum = 0.0\n",
    "for i in range(100,max):\n",
    "    sum += (np.exp(-avg_rate*i)*(avg_rate*i)**i)/sp.math.factorial(i)\n",
    "\n",
    "print(\"%4.5e\" % sum)"
   ]
  },
  {
   "cell_type": "code",
   "execution_count": 18,
   "metadata": {
    "collapsed": false
   },
   "outputs": [
    {
     "name": "stdout",
     "output_type": "stream",
     "text": [
      "  0.34\n"
     ]
    }
   ],
   "source": [
    "#Question 10\n",
    "import numpy as np\n",
    "n = 10000\n",
    "\n",
    "g = lambda x : (2*3.14159)**(-.5)*np.exp(-x**2/2)\n",
    "\n",
    "integral = 0\n",
    "for i in range(0,n):\n",
    "    integral += g(np.random.rand()) \n",
    "\n",
    "integral = (1/n)*integral    \n",
    "    \n",
    "print(\"%6.2f\" % integral)\n",
    "    "
   ]
  },
  {
   "cell_type": "code",
   "execution_count": 5,
   "metadata": {
    "collapsed": false
   },
   "outputs": [],
   "source": [
    "#Question 12 \n",
    "import numpy as np\n",
    "from scipy.stats import ttest_ind\n",
    "\n",
    "A = np.array([79.98,80.04,80.02,80.04,80.03,80.03,80.04,79.97,80.05,80.03,80.02,80,80.02])\n",
    "B = np.array([80.02,79.94,79.98,79.97,79.97,80.03,79.95,79.97])\n",
    "\n",
    "ttest_ind(A,B)\n",
    "\n",
    "sigmaA = np.std(A)\n",
    "sigmaB = np.std(B)\n",
    "n1 = len(A)\n",
    "n2 = len(B)\n",
    "\n",
    "#pooled variance\n",
    "sigmaP = np.sqrt(((n1-1)*sigmaA**2 + (n2-1)*sigmaB**2)/(n1 + n2 -2))\n",
    "\n",
    "#diffs = \n",
    "\n",
    "#std_dev = \n",
    "\n",
    "#Z = avg - "
   ]
  }
 ],
 "metadata": {
  "kernelspec": {
   "display_name": "Python [Root]",
   "language": "python",
   "name": "Python [Root]"
  },
  "language_info": {
   "codemirror_mode": {
    "name": "ipython",
    "version": 3
   },
   "file_extension": ".py",
   "mimetype": "text/x-python",
   "name": "python",
   "nbconvert_exporter": "python",
   "pygments_lexer": "ipython3",
   "version": "3.5.1"
  }
 },
 "nbformat": 4,
 "nbformat_minor": 0
}
